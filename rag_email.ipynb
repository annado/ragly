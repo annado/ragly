{
 "cells": [
  {
   "cell_type": "code",
   "execution_count": null,
   "metadata": {},
   "outputs": [],
   "source": [
    "from dotenv import load_dotenv\n",
    "load_dotenv()\n",
    "\n",
    "from custom_gmail_reader import CustomGmailReader\n",
    "from llama_index.core import VectorStoreIndex\n",
    "from llama_index.core.query_engine import RetrieverQueryEngine\n",
    "from llama_index.core.retrievers import VectorIndexRetriever\n",
    "\n",
    "\n",
    "\n",
    "# Instantiate the CustomGmailReader\n",
    "loader = CustomGmailReader(\n",
    "    query=\"\",\n",
    "    max_results=50,\n",
    "    results_per_page=10,\n",
    "    service=None\n",
    ")\n",
    "\n",
    "# Load the emails\n",
    "documents = loader.load_data()\n",
    "\n",
    "# Print email information\n",
    "print(f\"Number of documents: {len(documents)}\")\n",
    "for i, doc in enumerate(documents[:20]):\n",
    "    print(f\"Document {i+1}:\")\n",
    "    # print(f\"To: {doc.metadata.get('to', 'N/A')}\")\n",
    "    # print(f\"From: {doc.metadata.get('from', 'N/A')}\")\n",
    "    print(f\"Subject: {doc.metadata.get('subject', 'N/A')}\")\n",
    "    print(f\"Date: {doc.metadata.get('date', 'N/A')}\")\n",
    "    # print(f\"Content snippet: {doc.text[:1000]}...\")\n",
    "    print(\"=\" * 50)\n",
    "\n",
    "\n",
    "# Create index\n",
    "index = VectorStoreIndex.from_documents(documents)\n",
    "\n",
    "# Create retriever\n",
    "# retriever = VectorIndexRetriever(index=index)\n",
    "\n",
    "# Create a retriever to fetch relevant documents\n",
    "retriever = index.as_retriever(retrieval_mode='similarity', k=10)\n",
    "\n",
    "# Create query engine\n",
    "query_engine = RetrieverQueryEngine(retriever=retriever)\n",
    "\n",
    "\n"
   ]
  },
  {
   "cell_type": "code",
   "execution_count": null,
   "metadata": {},
   "outputs": [],
   "source": [
    "query = \"Which emails look like junk mail?\"\n",
    "\n",
    "# Retrieve relevant documents\n",
    "relevant_docs = retriever.retrieve(query)\n",
    "\n",
    "print(f\"Number of relevant documents: {len(relevant_docs)}\")\n",
    "print(\"\\n\" + \"=\"*50 + \"\\n\")\n",
    "\n",
    "for i, doc in enumerate(relevant_docs):\n",
    "    print(f\"Document {i+1}:\")\n",
    "    # print(f\"From: {doc.node.metadata['from']}\")\n",
    "    # print(f\"subject: {doc.node.metadata['subject']}\")\n",
    "    # print(f\"Text sample: {doc.node.metadata.snippet}...\")  # Print first 200 characters\n",
    "    print(f\"Metadata: {doc.node.metadata}\")\n",
    "    print(f\"Score: {doc.score}\")\n",
    "    print(\"\\n\" + \"=\"*50 + \"\\n\")"
   ]
  },
  {
   "cell_type": "code",
   "execution_count": null,
   "metadata": {},
   "outputs": [],
   "source": []
  },
  {
   "cell_type": "code",
   "execution_count": null,
   "metadata": {},
   "outputs": [],
   "source": []
  },
  {
   "cell_type": "code",
   "execution_count": 24,
   "metadata": {},
   "outputs": [
    {
     "name": "stdout",
     "output_type": "stream",
     "text": [
      "Paul Graham defines founder mode as a mental state where a founder is fully focused on their startup, working intensely and single-mindedly towards its success.\n"
     ]
    }
   ],
   "source": [
    "from llama_index.core import SimpleDirectoryReader\n",
    "\n",
    "# load documents\n",
    "documents = SimpleDirectoryReader(\"./data/paul_graham\").load_data()\n",
    "\n",
    "# Create index\n",
    "index = VectorStoreIndex.from_documents(documents)\n",
    "\n",
    "# Create retriever\n",
    "retriever = VectorIndexRetriever(index=index)\n",
    "response = query_engine.query(\"How does Paul Graham define founder mode?\")\n",
    "print(response)"
   ]
  }
 ],
 "metadata": {
  "kernelspec": {
   "display_name": "Python 3",
   "language": "python",
   "name": "python3"
  },
  "language_info": {
   "codemirror_mode": {
    "name": "ipython",
    "version": 3
   },
   "file_extension": ".py",
   "mimetype": "text/x-python",
   "name": "python",
   "nbconvert_exporter": "python",
   "pygments_lexer": "ipython3",
   "version": "3.8.1"
  }
 },
 "nbformat": 4,
 "nbformat_minor": 2
}
